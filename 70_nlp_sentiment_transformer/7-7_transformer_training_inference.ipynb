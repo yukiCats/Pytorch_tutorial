{
 "cells": [
  {
   "cell_type": "markdown",
   "metadata": {},
   "source": [
    "# 7.7 Transformerの学習・推論、判定根拠の可視化を実装\n",
    "\n",
    "- 本ファイルでは、ここまでで作成したTransformerモデルとIMDbのDataLoaderを使用してクラス分類を学習させます。テストデータで推論をし、さらに判断根拠となるAttentionを可視化します"
   ]
  },
  {
   "cell_type": "markdown",
   "metadata": {},
   "source": [
    "# 7.7 学習目標\n",
    "\n",
    "1.\tTransformerの学習を実装できるようになる\n",
    "2.\tTransformerの判定時のAttention可視化を実装できるようになる\n"
   ]
  },
  {
   "cell_type": "markdown",
   "metadata": {},
   "source": [
    "# 事前準備\n",
    "\n",
    "- フォルダ「utils」内の関数やクラスを使用します"
   ]
  },
  {
   "cell_type": "code",
   "execution_count": 3,
   "metadata": {},
   "outputs": [],
   "source": [
    "# パッケージのimport\n",
    "import numpy as np\n",
    "import random\n",
    "\n",
    "import torch\n",
    "import torch.nn as nn\n",
    "import torch.optim as optim\n",
    "\n",
    "import torchtext\n"
   ]
  },
  {
   "cell_type": "code",
   "execution_count": 4,
   "metadata": {},
   "outputs": [],
   "source": [
    "# 乱数のシードを設定\n",
    "torch.manual_seed(1234)\n",
    "np.random.seed(1234)\n",
    "random.seed(1234)"
   ]
  },
  {
   "cell_type": "markdown",
   "metadata": {},
   "source": [
    "# DatasetとDataLoaderを作成"
   ]
  },
  {
   "cell_type": "code",
   "execution_count": 5,
   "metadata": {},
   "outputs": [
    {
     "name": "stderr",
     "output_type": "stream",
     "text": [
      "/home/ubuntu/anaconda3/lib/python3.7/site-packages/torchtext/data/field.py:150: UserWarning: Field class will be retired soon and moved to torchtext.legacy. Please see the most recent release notes for further information.\n",
      "  warnings.warn('{} class will be retired soon and moved to torchtext.legacy. Please see the most recent release notes for further information.'.format(self.__class__.__name__), UserWarning)\n",
      "/home/ubuntu/anaconda3/lib/python3.7/site-packages/torchtext/data/example.py:68: UserWarning: Example class will be retired soon and moved to torchtext.legacy. Please see the most recent release notes for further information.\n",
      "  warnings.warn('Example class will be retired soon and moved to torchtext.legacy. Please see the most recent release notes for further information.', UserWarning)\n",
      "/home/ubuntu/anaconda3/lib/python3.7/site-packages/torchtext/data/example.py:78: UserWarning: Example class will be retired soon and moved to torchtext.legacy. Please see the most recent release notes for further information.\n",
      "  warnings.warn('Example class will be retired soon and moved to torchtext.legacy. Please see the most recent release notes for further information.', UserWarning)\n",
      "/home/ubuntu/anaconda3/lib/python3.7/site-packages/torchtext/data/iterator.py:48: UserWarning: Iterator class will be retired soon and moved to torchtext.legacy. Please see the most recent release notes for further information.\n",
      "  warnings.warn('{} class will be retired soon and moved to torchtext.legacy. Please see the most recent release notes for further information.'.format(self.__class__.__name__), UserWarning)\n"
     ]
    }
   ],
   "source": [
    "from utils.dataloader import get_IMDb_DataLoaders_and_TEXT\n",
    "\n",
    "# 読み込み\n",
    "train_dl, val_dl, test_dl, TEXT = get_IMDb_DataLoaders_and_TEXT(\n",
    "    max_length=256, batch_size=64)\n",
    "\n",
    "# 辞書オブジェクトにまとめる\n",
    "dataloaders_dict = {\"train\": train_dl, \"val\": val_dl}\n"
   ]
  },
  {
   "cell_type": "markdown",
   "metadata": {},
   "source": [
    "# ネットワークモデルの作成"
   ]
  },
  {
   "cell_type": "code",
   "execution_count": 6,
   "metadata": {},
   "outputs": [
    {
     "name": "stdout",
     "output_type": "stream",
     "text": [
      "ネットワーク設定完了\n"
     ]
    }
   ],
   "source": [
    "from utils.transformer import TransformerClassification\n",
    "\n",
    "# モデル構築\n",
    "net = TransformerClassification(\n",
    "    text_embedding_vectors=TEXT.vocab.vectors, d_model=300, max_seq_len=256, output_dim=2)\n",
    "\n",
    "# ネットワークの初期化を定義\n",
    "\n",
    "\n",
    "def weights_init(m):\n",
    "    classname = m.__class__.__name__\n",
    "    if classname.find('Linear') != -1:\n",
    "        # Liner層の初期化\n",
    "        nn.init.kaiming_normal_(m.weight)\n",
    "        if m.bias is not None:\n",
    "            nn.init.constant_(m.bias, 0.0)\n",
    "\n",
    "\n",
    "# 訓練モードに設定\n",
    "net.train()\n",
    "\n",
    "# TransformerBlockモジュールを初期化実行\n",
    "net.net3_1.apply(weights_init)\n",
    "net.net3_2.apply(weights_init)\n",
    "\n",
    "\n",
    "print('ネットワーク設定完了')\n"
   ]
  },
  {
   "cell_type": "markdown",
   "metadata": {},
   "source": [
    "# 損失関数と最適化手法を定義"
   ]
  },
  {
   "cell_type": "code",
   "execution_count": 7,
   "metadata": {},
   "outputs": [],
   "source": [
    "# 損失関数の設定\n",
    "criterion = nn.CrossEntropyLoss()\n",
    "# nn.LogSoftmax()を計算してからnn.NLLLoss(negative log likelihood loss)を計算\n",
    "\n",
    "# 最適化手法の設定\n",
    "learning_rate = 2e-5\n",
    "optimizer = optim.Adam(net.parameters(), lr=learning_rate)\n"
   ]
  },
  {
   "cell_type": "markdown",
   "metadata": {},
   "source": [
    "# 学習・検証を実施"
   ]
  },
  {
   "cell_type": "code",
   "execution_count": 8,
   "metadata": {},
   "outputs": [],
   "source": [
    "# モデルを学習させる関数を作成\n",
    "\n",
    "\n",
    "def train_model(net, dataloaders_dict, criterion, optimizer, num_epochs):\n",
    "\n",
    "    # GPUが使えるかを確認\n",
    "    device = torch.device(\"cuda:0\" if torch.cuda.is_available() else \"cpu\")\n",
    "    print(\"使用デバイス：\", device)\n",
    "    print('-----start-------')\n",
    "    # ネットワークをGPUへ\n",
    "    net.to(device)\n",
    "\n",
    "    # ネットワークがある程度固定であれば、高速化させる\n",
    "    torch.backends.cudnn.benchmark = True\n",
    "\n",
    "    # epochのループ\n",
    "    for epoch in range(num_epochs):\n",
    "        # epochごとの訓練と検証のループ\n",
    "        for phase in ['train', 'val']:\n",
    "            if phase == 'train':\n",
    "                net.train()  # モデルを訓練モードに\n",
    "            else:\n",
    "                net.eval()   # モデルを検証モードに\n",
    "\n",
    "            epoch_loss = 0.0  # epochの損失和\n",
    "            epoch_corrects = 0  # epochの正解数\n",
    "\n",
    "            # データローダーからミニバッチを取り出すループ\n",
    "            for batch in (dataloaders_dict[phase]):\n",
    "                # batchはTextとLableの辞書オブジェクト\n",
    "\n",
    "                # GPUが使えるならGPUにデータを送る\n",
    "                inputs = batch.Text[0].to(device)  # 文章\n",
    "                labels = batch.Label.to(device)  # ラベル\n",
    "\n",
    "                # optimizerを初期化\n",
    "                optimizer.zero_grad()\n",
    "\n",
    "                # 順伝搬（forward）計算\n",
    "                with torch.set_grad_enabled(phase == 'train'):\n",
    "\n",
    "                    # mask作成\n",
    "                    input_pad = 1  # 単語のIDにおいて、'<pad>': 1 なので\n",
    "                    input_mask = (inputs != input_pad)\n",
    "\n",
    "                    # Transformerに入力\n",
    "                    outputs, _, _ = net(inputs, input_mask)\n",
    "                    loss = criterion(outputs, labels)  # 損失を計算\n",
    "\n",
    "                    _, preds = torch.max(outputs, 1)  # ラベルを予測\n",
    "\n",
    "                    # 訓練時はバックプロパゲーション\n",
    "                    if phase == 'train':\n",
    "                        loss.backward()\n",
    "                        optimizer.step()\n",
    "\n",
    "                    # 結果の計算\n",
    "                    epoch_loss += loss.item() * inputs.size(0)  # lossの合計を更新\n",
    "                    # 正解数の合計を更新\n",
    "                    epoch_corrects += torch.sum(preds == labels.data)\n",
    "\n",
    "            # epochごとのlossと正解率\n",
    "            epoch_loss = epoch_loss / len(dataloaders_dict[phase].dataset)\n",
    "            epoch_acc = epoch_corrects.double(\n",
    "            ) / len(dataloaders_dict[phase].dataset)\n",
    "\n",
    "            print('Epoch {}/{} | {:^5} |  Loss: {:.4f} Acc: {:.4f}'.format(epoch+1, num_epochs,\n",
    "                                                                           phase, epoch_loss, epoch_acc))\n",
    "\n",
    "    return net\n"
   ]
  },
  {
   "cell_type": "code",
   "execution_count": 9,
   "metadata": {},
   "outputs": [
    {
     "name": "stdout",
     "output_type": "stream",
     "text": [
      "使用デバイス： cuda:0\n",
      "-----start-------\n"
     ]
    },
    {
     "name": "stderr",
     "output_type": "stream",
     "text": [
      "/home/ubuntu/anaconda3/lib/python3.7/site-packages/torchtext/data/batch.py:23: UserWarning: Batch class will be retired soon and moved to torchtext.legacy. Please see the most recent release notes for further information.\n",
      "  warnings.warn('{} class will be retired soon and moved to torchtext.legacy. Please see the most recent release notes for further information.'.format(self.__class__.__name__), UserWarning)\n"
     ]
    },
    {
     "name": "stdout",
     "output_type": "stream",
     "text": [
      "Epoch 1/10 | train |  Loss: 0.5890 Acc: 0.6769\n",
      "Epoch 1/10 |  val  |  Loss: 0.4426 Acc: 0.7982\n",
      "Epoch 2/10 | train |  Loss: 0.4370 Acc: 0.8032\n",
      "Epoch 2/10 |  val  |  Loss: 0.4414 Acc: 0.8058\n",
      "Epoch 3/10 | train |  Loss: 0.4016 Acc: 0.8205\n",
      "Epoch 3/10 |  val  |  Loss: 0.3978 Acc: 0.8248\n",
      "Epoch 4/10 | train |  Loss: 0.3820 Acc: 0.8314\n",
      "Epoch 4/10 |  val  |  Loss: 0.4049 Acc: 0.8248\n",
      "Epoch 5/10 | train |  Loss: 0.3658 Acc: 0.8417\n",
      "Epoch 5/10 |  val  |  Loss: 0.3768 Acc: 0.8398\n",
      "Epoch 6/10 | train |  Loss: 0.3545 Acc: 0.8453\n",
      "Epoch 6/10 |  val  |  Loss: 0.3690 Acc: 0.8414\n",
      "Epoch 7/10 | train |  Loss: 0.3437 Acc: 0.8515\n",
      "Epoch 7/10 |  val  |  Loss: 0.3796 Acc: 0.8392\n",
      "Epoch 8/10 | train |  Loss: 0.3382 Acc: 0.8551\n",
      "Epoch 8/10 |  val  |  Loss: 0.3900 Acc: 0.8358\n",
      "Epoch 9/10 | train |  Loss: 0.3335 Acc: 0.8548\n",
      "Epoch 9/10 |  val  |  Loss: 0.3778 Acc: 0.8408\n",
      "Epoch 10/10 | train |  Loss: 0.3218 Acc: 0.8639\n",
      "Epoch 10/10 |  val  |  Loss: 0.3661 Acc: 0.8420\n"
     ]
    }
   ],
   "source": [
    "# 学習・検証を実行する 15分ほどかかります\n",
    "num_epochs = 10\n",
    "net_trained = train_model(net, dataloaders_dict,\n",
    "                          criterion, optimizer, num_epochs=num_epochs)\n"
   ]
  },
  {
   "cell_type": "markdown",
   "metadata": {},
   "source": [
    "# テストデータでの正解率を求める"
   ]
  },
  {
   "cell_type": "code",
   "execution_count": 10,
   "metadata": {},
   "outputs": [
    {
     "name": "stdout",
     "output_type": "stream",
     "text": [
      "テストデータ25000個での正解率：0.8484\n"
     ]
    }
   ],
   "source": [
    "# device\n",
    "device = torch.device(\"cuda:0\" if torch.cuda.is_available() else \"cpu\")\n",
    "\n",
    "net_trained.eval()   # モデルを検証モードに\n",
    "net_trained.to(device)\n",
    "\n",
    "epoch_corrects = 0  # epochの正解数\n",
    "\n",
    "for batch in (test_dl):  # testデータのDataLoader\n",
    "    # batchはTextとLableの辞書オブジェクト\n",
    "    \n",
    "    # GPUが使えるならGPUにデータを送る\n",
    "    inputs = batch.Text[0].to(device)  # 文章\n",
    "    labels = batch.Label.to(device)  # ラベル\n",
    "\n",
    "    # 順伝搬（forward）計算\n",
    "    with torch.set_grad_enabled(False):\n",
    "\n",
    "        # mask作成\n",
    "        input_pad = 1  # 単語のIDにおいて、'<pad>': 1 なので\n",
    "        input_mask = (inputs != input_pad)\n",
    "\n",
    "        # Transformerに入力\n",
    "        outputs, _, _ = net_trained(inputs, input_mask)\n",
    "        _, preds = torch.max(outputs, 1)  # ラベルを予測\n",
    "\n",
    "        # 結果の計算\n",
    "        # 正解数の合計を更新\n",
    "        epoch_corrects += torch.sum(preds == labels.data)\n",
    "\n",
    "# 正解率\n",
    "epoch_acc = epoch_corrects.double() / len(test_dl.dataset)\n",
    "\n",
    "print('テストデータ{}個での正解率：{:.4f}'.format(len(test_dl.dataset),epoch_acc))\n"
   ]
  },
  {
   "cell_type": "markdown",
   "metadata": {},
   "source": [
    "# Attentionの可視化で判定根拠を探る\n"
   ]
  },
  {
   "cell_type": "code",
   "execution_count": 11,
   "metadata": {},
   "outputs": [],
   "source": [
    "# HTMLを作成する関数を実装\n",
    "\n",
    "\n",
    "def highlight(word, attn):\n",
    "    \"Attentionの値が大きいと文字の背景が濃い赤になるhtmlを出力させる関数\"\n",
    "\n",
    "    html_color = '#%02X%02X%02X' % (\n",
    "        255, int(255*(1 - attn)), int(255*(1 - attn)))\n",
    "    return '<span style=\"background-color: {}\"> {}</span>'.format(html_color, word)\n",
    "\n",
    "\n",
    "def mk_html(index, batch, preds, normlized_weights_1, normlized_weights_2, TEXT):\n",
    "    \"HTMLデータを作成する\"\n",
    "\n",
    "    # indexの結果を抽出\n",
    "    sentence = batch.Text[0][index]  # 文章\n",
    "    label = batch.Label[index]  # ラベル\n",
    "    pred = preds[index]  # 予測\n",
    "\n",
    "    # indexのAttentionを抽出と規格化\n",
    "    attens1 = normlized_weights_1[index, 0, :]  # 0番目の<cls>のAttention\n",
    "    attens1 /= attens1.max()\n",
    "\n",
    "    attens2 = normlized_weights_2[index, 0, :]  # 0番目の<cls>のAttention\n",
    "    attens2 /= attens2.max()\n",
    "\n",
    "    # ラベルと予測結果を文字に置き換え\n",
    "    if label == 0:\n",
    "        label_str = \"Negative\"\n",
    "    else:\n",
    "        label_str = \"Positive\"\n",
    "\n",
    "    if pred == 0:\n",
    "        pred_str = \"Negative\"\n",
    "    else:\n",
    "        pred_str = \"Positive\"\n",
    "\n",
    "    # 表示用のHTMLを作成する\n",
    "    html = '正解ラベル：{}<br>推論ラベル：{}<br><br>'.format(label_str, pred_str)\n",
    "\n",
    "    # 1段目のAttention\n",
    "    html += '[TransformerBlockの1段目のAttentionを可視化]<br>'\n",
    "    for word, attn in zip(sentence, attens1):\n",
    "        html += highlight(TEXT.vocab.itos[word], attn)\n",
    "    html += \"<br><br>\"\n",
    "\n",
    "    # 2段目のAttention\n",
    "    html += '[TransformerBlockの2段目のAttentionを可視化]<br>'\n",
    "    for word, attn in zip(sentence, attens2):\n",
    "        html += highlight(TEXT.vocab.itos[word], attn)\n",
    "\n",
    "    html += \"<br><br>\"\n",
    "\n",
    "    return html\n"
   ]
  },
  {
   "cell_type": "code",
   "execution_count": 12,
   "metadata": {},
   "outputs": [
    {
     "data": {
      "text/html": [
       "正解ラベル：Positive<br>推論ラベル：Positive<br><br>[TransformerBlockの1段目のAttentionを可視化]<br><span style=\"background-color: #FFFCFC\"> <cls></span><span style=\"background-color: #FFFEFE\"> for</span><span style=\"background-color: #FFF8F8\"> one</span><span style=\"background-color: #FFB4B4\"> used</span><span style=\"background-color: #FFFEFE\"> to</span><span style=\"background-color: #FFFEFE\"> the</span><span style=\"background-color: #FFDADA\"> comedies</span><span style=\"background-color: #FFFEFE\"> on</span><span style=\"background-color: #FFF9F9\"> television</span><span style=\"background-color: #FFFEFE\"> now</span><span style=\"background-color: #FFFEFE\"> whether</span><span style=\"background-color: #FFF9F9\"> sketch</span><span style=\"background-color: #FFFEFE\"> ,</span><span style=\"background-color: #FFF5F5\"> sitcom</span><span style=\"background-color: #FFFEFE\"> or</span><span style=\"background-color: #FFF6F6\"> animated</span><span style=\"background-color: #FFFEFE\"> ,</span><span style=\"background-color: #FFFEFE\"> it</span><span style=\"background-color: #FFFEFE\"> s</span><span style=\"background-color: #FFDFDF\"> nice</span><span style=\"background-color: #FFFEFE\"> to</span><span style=\"background-color: #FFF9F9\"> watch</span><span style=\"background-color: #FFFCFC\"> something</span><span style=\"background-color: #FFD3D3\"> truly</span><span style=\"background-color: #FF0F0F\"> refreshing</span><span style=\"background-color: #FFFEFE\"> .</span><span style=\"background-color: #FFFEFE\"> the</span><span style=\"background-color: #FFFDFD\"> <unk></span><span style=\"background-color: #FFFCFC\"> has</span><span style=\"background-color: #FFFEFE\"> to</span><span style=\"background-color: #FFFEFE\"> be</span><span style=\"background-color: #FFFEFE\"> the</span><span style=\"background-color: #FFEEEE\"> best</span><span style=\"background-color: #FFD8D8\"> comedy</span><span style=\"background-color: #FFFDFD\"> of</span><span style=\"background-color: #FFFAFA\"> this</span><span style=\"background-color: #FFFBFB\"> decade</span><span style=\"background-color: #FFFEFE\"> ,</span><span style=\"background-color: #FFF9F9\"> seinfeld</span><span style=\"background-color: #FFFDFD\"> being</span><span style=\"background-color: #FFFEFE\"> the</span><span style=\"background-color: #FFFAFA\"> last</span><span style=\"background-color: #FFFDFD\"> s</span><span style=\"background-color: #FFE1E1\"> triumph</span><span style=\"background-color: #FFFEFE\"> .</span><span style=\"background-color: #FFFEFE\"> it</span><span style=\"background-color: #FFFDFD\"> follows</span><span style=\"background-color: #FFFEFE\"> the</span><span style=\"background-color: #FFF2F2\"> hosts</span><span style=\"background-color: #FFFCFC\"> urban</span><span style=\"background-color: #FFFDFD\"> <unk></span><span style=\"background-color: #FFFEFE\"> to</span><span style=\"background-color: #FFFAFA\"> fix</span><span style=\"background-color: #FFF7F7\"> situations</span><span style=\"background-color: #FFFEFE\"> ,</span><span style=\"background-color: #FFFEFE\"> do</span><span style=\"background-color: #FFFEFE\"> ad</span><span style=\"background-color: #FFFAFA\"> road</span><span style=\"background-color: #FFF4F4\"> tests</span><span style=\"background-color: #FFFEFE\"> and</span><span style=\"background-color: #FFE0E0\"> try</span><span style=\"background-color: #FFFEFE\"> to</span><span style=\"background-color: #FFFEFE\"> get</span><span style=\"background-color: #FFFDFD\"> the</span><span style=\"background-color: #FFCDCD\"> facts</span><span style=\"background-color: #FFFEFE\"> from</span><span style=\"background-color: #FFF3F3\"> our</span><span style=\"background-color: #FFFEFE\"> politicians</span><span style=\"background-color: #FFFEFE\"> the</span><span style=\"background-color: #FFD8D8\"> good</span><span style=\"background-color: #FFFCFC\"> old</span><span style=\"background-color: #FFE8E8\"> fashioned</span><span style=\"background-color: #FFF6F6\"> way</span><span style=\"background-color: #FFFEFE\"> .</span><span style=\"background-color: #FFF6F6\"> despite</span><span style=\"background-color: #FFFDFD\"> being</span><span style=\"background-color: #FFFEFE\"> very</span><span style=\"background-color: #FFFBFB\"> controversial</span><span style=\"background-color: #FFFEFE\"> at</span><span style=\"background-color: #FFFDFD\"> times</span><span style=\"background-color: #FFFEFE\"> ,</span><span style=\"background-color: #FFFDFD\"> the</span><span style=\"background-color: #FFF0F0\"> shows</span><span style=\"background-color: #FF0000\"> excellent</span><span style=\"background-color: #FFEBEB\"> quality</span><span style=\"background-color: #FFFEFE\"> ,</span><span style=\"background-color: #FFFEFE\"> from</span><span style=\"background-color: #FFFEFE\"> the</span><span style=\"background-color: #FFFEFE\"> well</span><span style=\"background-color: #FFF1F1\"> made</span><span style=\"background-color: #FFFEFE\"> and</span><span style=\"background-color: #FFD6D6\"> truly</span><span style=\"background-color: #FFC2C2\"> funny</span><span style=\"background-color: #FFF8F8\"> opening</span><span style=\"background-color: #FFF5F5\"> credits</span><span style=\"background-color: #FFFEFE\"> to</span><span style=\"background-color: #FFFEFE\"> the</span><span style=\"background-color: #FFF9F9\"> sketch</span><span style=\"background-color: #FFFAFA\"> style</span><span style=\"background-color: #FFE3E3\"> investigations</span><span style=\"background-color: #FFF9F9\"> sketch</span><span style=\"background-color: #FFFAFA\"> style</span><span style=\"background-color: #FFFCFC\"> only</span><span style=\"background-color: #FFFEFE\"> in</span><span style=\"background-color: #FFEFEF\"> time</span><span style=\"background-color: #FFFEFE\"> ,</span><span style=\"background-color: #FFFCFC\"> they</span><span style=\"background-color: #FFFDFD\"> are</span><span style=\"background-color: #FFF7F7\"> not</span><span style=\"background-color: #FFE9E9\"> scripted</span><span style=\"background-color: #FFFEFE\"> ,</span><span style=\"background-color: #FFFEFE\"> at</span><span style=\"background-color: #FFFEFE\"> least</span><span style=\"background-color: #FFFEFE\"> ,</span><span style=\"background-color: #FFF9F9\"> not</span><span style=\"background-color: #FFFEFE\"> the</span><span style=\"background-color: #FFFCFC\"> ones</span><span style=\"background-color: #FFFEFE\"> at</span><span style=\"background-color: #FFFEFE\"> the</span><span style=\"background-color: #FFFEFE\"> other</span><span style=\"background-color: #FFFDFD\"> end</span><span style=\"background-color: #FFFDFD\"> of</span><span style=\"background-color: #FFFEFE\"> the</span><span style=\"background-color: #FF7979\"> joke</span><span style=\"background-color: #FFFEFE\"> is</span><span style=\"background-color: #FFFCFC\"> certainly</span><span style=\"background-color: #FFF7F7\"> worth</span><span style=\"background-color: #FFF4F4\"> watching</span><span style=\"background-color: #FFFEFE\"> .</span><span style=\"background-color: #FFFDFD\"> even</span><span style=\"background-color: #FFFEFE\"> the</span><span style=\"background-color: #FFFEFE\"> most</span><span style=\"background-color: #FFE3E3\"> cynical</span><span style=\"background-color: #FFFEFE\"> and</span><span style=\"background-color: #FFFCFC\"> intellectual</span><span style=\"background-color: #FFFCFC\"> viewer</span><span style=\"background-color: #FFF9F9\"> won</span><span style=\"background-color: #FFFAFA\"> t</span><span style=\"background-color: #FFFEFE\"> be</span><span style=\"background-color: #FFEFEF\"> disappointed</span><span style=\"background-color: #FFFEFE\"> ,</span><span style=\"background-color: #FFFEFE\"> and</span><span style=\"background-color: #FFFDFD\"> the</span><span style=\"background-color: #FFF9F9\"> show</span><span style=\"background-color: #FFF5F5\"> deserves</span><span style=\"background-color: #FFFDFD\"> ten</span><span style=\"background-color: #FFE5E5\"> stars</span><span style=\"background-color: #FFFEFE\"> .</span><span style=\"background-color: #FFFCFC\"> all</span><span style=\"background-color: #FFFEFE\"> in</span><span style=\"background-color: #FFFCFC\"> all</span><span style=\"background-color: #FFFEFE\"> ,</span><span style=\"background-color: #FFFDFD\"> well</span><span style=\"background-color: #FFEEEE\"> done</span><span style=\"background-color: #FFFDFD\"> to</span><span style=\"background-color: #FFFDFD\"> the</span><span style=\"background-color: #FFFDFD\"> abc</span><span style=\"background-color: #FFFEFE\"> for</span><span style=\"background-color: #FFFAFA\"> showing</span><span style=\"background-color: #FFFBFB\"> this</span><span style=\"background-color: #FFFEFE\"> and</span><span style=\"background-color: #FFFDFD\"> i</span><span style=\"background-color: #FFF1F1\"> recommend</span><span style=\"background-color: #FFFEFE\"> it</span><span style=\"background-color: #FFFEFE\"> highly</span><span style=\"background-color: #FFFEFE\"> .</span><span style=\"background-color: #FFFDFD\"> <eos></span><span style=\"background-color: #FFFFFF\"> <pad></span><span style=\"background-color: #FFFFFF\"> <pad></span><span style=\"background-color: #FFFFFF\"> <pad></span><span style=\"background-color: #FFFFFF\"> <pad></span><span style=\"background-color: #FFFFFF\"> <pad></span><span style=\"background-color: #FFFFFF\"> <pad></span><span style=\"background-color: #FFFFFF\"> <pad></span><span style=\"background-color: #FFFFFF\"> <pad></span><span style=\"background-color: #FFFFFF\"> <pad></span><span style=\"background-color: #FFFFFF\"> <pad></span><span style=\"background-color: #FFFFFF\"> <pad></span><span style=\"background-color: #FFFFFF\"> <pad></span><span style=\"background-color: #FFFFFF\"> <pad></span><span style=\"background-color: #FFFFFF\"> <pad></span><span style=\"background-color: #FFFFFF\"> <pad></span><span style=\"background-color: #FFFFFF\"> <pad></span><span style=\"background-color: #FFFFFF\"> <pad></span><span style=\"background-color: #FFFFFF\"> <pad></span><span style=\"background-color: #FFFFFF\"> <pad></span><span style=\"background-color: #FFFFFF\"> <pad></span><span style=\"background-color: #FFFFFF\"> <pad></span><span style=\"background-color: #FFFFFF\"> <pad></span><span style=\"background-color: #FFFFFF\"> <pad></span><span style=\"background-color: #FFFFFF\"> <pad></span><span style=\"background-color: #FFFFFF\"> <pad></span><span style=\"background-color: #FFFFFF\"> <pad></span><span style=\"background-color: #FFFFFF\"> <pad></span><span style=\"background-color: #FFFFFF\"> <pad></span><span style=\"background-color: #FFFFFF\"> <pad></span><span style=\"background-color: #FFFFFF\"> <pad></span><span style=\"background-color: #FFFFFF\"> <pad></span><span style=\"background-color: #FFFFFF\"> <pad></span><span style=\"background-color: #FFFFFF\"> <pad></span><span style=\"background-color: #FFFFFF\"> <pad></span><span style=\"background-color: #FFFFFF\"> <pad></span><span style=\"background-color: #FFFFFF\"> <pad></span><span style=\"background-color: #FFFFFF\"> <pad></span><span style=\"background-color: #FFFFFF\"> <pad></span><span style=\"background-color: #FFFFFF\"> <pad></span><span style=\"background-color: #FFFFFF\"> <pad></span><span style=\"background-color: #FFFFFF\"> <pad></span><span style=\"background-color: #FFFFFF\"> <pad></span><span style=\"background-color: #FFFFFF\"> <pad></span><span style=\"background-color: #FFFFFF\"> <pad></span><span style=\"background-color: #FFFFFF\"> <pad></span><span style=\"background-color: #FFFFFF\"> <pad></span><span style=\"background-color: #FFFFFF\"> <pad></span><span style=\"background-color: #FFFFFF\"> <pad></span><span style=\"background-color: #FFFFFF\"> <pad></span><span style=\"background-color: #FFFFFF\"> <pad></span><span style=\"background-color: #FFFFFF\"> <pad></span><span style=\"background-color: #FFFFFF\"> <pad></span><span style=\"background-color: #FFFFFF\"> <pad></span><span style=\"background-color: #FFFFFF\"> <pad></span><span style=\"background-color: #FFFFFF\"> <pad></span><span style=\"background-color: #FFFFFF\"> <pad></span><span style=\"background-color: #FFFFFF\"> <pad></span><span style=\"background-color: #FFFFFF\"> <pad></span><span style=\"background-color: #FFFFFF\"> <pad></span><span style=\"background-color: #FFFFFF\"> <pad></span><span style=\"background-color: #FFFFFF\"> <pad></span><span style=\"background-color: #FFFFFF\"> <pad></span><span style=\"background-color: #FFFFFF\"> <pad></span><span style=\"background-color: #FFFFFF\"> <pad></span><span style=\"background-color: #FFFFFF\"> <pad></span><span style=\"background-color: #FFFFFF\"> <pad></span><span style=\"background-color: #FFFFFF\"> <pad></span><span style=\"background-color: #FFFFFF\"> <pad></span><span style=\"background-color: #FFFFFF\"> <pad></span><span style=\"background-color: #FFFFFF\"> <pad></span><span style=\"background-color: #FFFFFF\"> <pad></span><span style=\"background-color: #FFFFFF\"> <pad></span><span style=\"background-color: #FFFFFF\"> <pad></span><span style=\"background-color: #FFFFFF\"> <pad></span><span style=\"background-color: #FFFFFF\"> <pad></span><span style=\"background-color: #FFFFFF\"> <pad></span><span style=\"background-color: #FFFFFF\"> <pad></span><span style=\"background-color: #FFFFFF\"> <pad></span><span style=\"background-color: #FFFFFF\"> <pad></span><span style=\"background-color: #FFFFFF\"> <pad></span><span style=\"background-color: #FFFFFF\"> <pad></span><span style=\"background-color: #FFFFFF\"> <pad></span><span style=\"background-color: #FFFFFF\"> <pad></span><span style=\"background-color: #FFFFFF\"> <pad></span><span style=\"background-color: #FFFFFF\"> <pad></span><span style=\"background-color: #FFFFFF\"> <pad></span><span style=\"background-color: #FFFFFF\"> <pad></span><span style=\"background-color: #FFFFFF\"> <pad></span><span style=\"background-color: #FFFFFF\"> <pad></span><br><br>[TransformerBlockの2段目のAttentionを可視化]<br><span style=\"background-color: #FFFEFE\"> <cls></span><span style=\"background-color: #FFFEFE\"> for</span><span style=\"background-color: #FFFDFD\"> one</span><span style=\"background-color: #FFFEFE\"> used</span><span style=\"background-color: #FFFEFE\"> to</span><span style=\"background-color: #FFFEFE\"> the</span><span style=\"background-color: #FFFDFD\"> comedies</span><span style=\"background-color: #FFFEFE\"> on</span><span style=\"background-color: #FFFEFE\"> television</span><span style=\"background-color: #FFFEFE\"> now</span><span style=\"background-color: #FFFEFE\"> whether</span><span style=\"background-color: #FFFEFE\"> sketch</span><span style=\"background-color: #FFFEFE\"> ,</span><span style=\"background-color: #FFFEFE\"> sitcom</span><span style=\"background-color: #FFFEFE\"> or</span><span style=\"background-color: #FFF8F8\"> animated</span><span style=\"background-color: #FFFEFE\"> ,</span><span style=\"background-color: #FFFEFE\"> it</span><span style=\"background-color: #FFFEFE\"> s</span><span style=\"background-color: #FFEFEF\"> nice</span><span style=\"background-color: #FFFEFE\"> to</span><span style=\"background-color: #FFFEFE\"> watch</span><span style=\"background-color: #FFFBFB\"> something</span><span style=\"background-color: #FFF1F1\"> truly</span><span style=\"background-color: #FFAAAA\"> refreshing</span><span style=\"background-color: #FFFEFE\"> .</span><span style=\"background-color: #FFFEFE\"> the</span><span style=\"background-color: #FFFEFE\"> <unk></span><span style=\"background-color: #FFFEFE\"> has</span><span style=\"background-color: #FFFEFE\"> to</span><span style=\"background-color: #FFFDFD\"> be</span><span style=\"background-color: #FFFEFE\"> the</span><span style=\"background-color: #FFD8D8\"> best</span><span style=\"background-color: #FFFEFE\"> comedy</span><span style=\"background-color: #FFFEFE\"> of</span><span style=\"background-color: #FFFDFD\"> this</span><span style=\"background-color: #FFFEFE\"> decade</span><span style=\"background-color: #FFFEFE\"> ,</span><span style=\"background-color: #FFFEFE\"> seinfeld</span><span style=\"background-color: #FFFEFE\"> being</span><span style=\"background-color: #FFFEFE\"> the</span><span style=\"background-color: #FFFEFE\"> last</span><span style=\"background-color: #FFFEFE\"> s</span><span style=\"background-color: #FFFEFE\"> triumph</span><span style=\"background-color: #FFFEFE\"> .</span><span style=\"background-color: #FFFEFE\"> it</span><span style=\"background-color: #FFFEFE\"> follows</span><span style=\"background-color: #FFFEFE\"> the</span><span style=\"background-color: #FFFEFE\"> hosts</span><span style=\"background-color: #FFFEFE\"> urban</span><span style=\"background-color: #FFFEFE\"> <unk></span><span style=\"background-color: #FFFEFE\"> to</span><span style=\"background-color: #FFFCFC\"> fix</span><span style=\"background-color: #FFFEFE\"> situations</span><span style=\"background-color: #FFFEFE\"> ,</span><span style=\"background-color: #FFFEFE\"> do</span><span style=\"background-color: #FFFCFC\"> ad</span><span style=\"background-color: #FFFEFE\"> road</span><span style=\"background-color: #FFFEFE\"> tests</span><span style=\"background-color: #FFFEFE\"> and</span><span style=\"background-color: #FFFEFE\"> try</span><span style=\"background-color: #FFFEFE\"> to</span><span style=\"background-color: #FFFEFE\"> get</span><span style=\"background-color: #FFFEFE\"> the</span><span style=\"background-color: #FFFEFE\"> facts</span><span style=\"background-color: #FFFEFE\"> from</span><span style=\"background-color: #FFFDFD\"> our</span><span style=\"background-color: #FFFEFE\"> politicians</span><span style=\"background-color: #FFFEFE\"> the</span><span style=\"background-color: #FFEEEE\"> good</span><span style=\"background-color: #FFFEFE\"> old</span><span style=\"background-color: #FFFDFD\"> fashioned</span><span style=\"background-color: #FFFEFE\"> way</span><span style=\"background-color: #FFFEFE\"> .</span><span style=\"background-color: #FFFDFD\"> despite</span><span style=\"background-color: #FFFEFE\"> being</span><span style=\"background-color: #FFEEEE\"> very</span><span style=\"background-color: #FFFDFD\"> controversial</span><span style=\"background-color: #FFFEFE\"> at</span><span style=\"background-color: #FFFEFE\"> times</span><span style=\"background-color: #FFFEFE\"> ,</span><span style=\"background-color: #FFFEFE\"> the</span><span style=\"background-color: #FFFEFE\"> shows</span><span style=\"background-color: #FF8B8B\"> excellent</span><span style=\"background-color: #FFF5F5\"> quality</span><span style=\"background-color: #FFFEFE\"> ,</span><span style=\"background-color: #FFFEFE\"> from</span><span style=\"background-color: #FFFEFE\"> the</span><span style=\"background-color: #FFF1F1\"> well</span><span style=\"background-color: #FFFEFE\"> made</span><span style=\"background-color: #FFFEFE\"> and</span><span style=\"background-color: #FFF0F0\"> truly</span><span style=\"background-color: #FFFBFB\"> funny</span><span style=\"background-color: #FFFEFE\"> opening</span><span style=\"background-color: #FFFEFE\"> credits</span><span style=\"background-color: #FFFEFE\"> to</span><span style=\"background-color: #FFFEFE\"> the</span><span style=\"background-color: #FFFEFE\"> sketch</span><span style=\"background-color: #FFFDFD\"> style</span><span style=\"background-color: #FFFEFE\"> investigations</span><span style=\"background-color: #FFFEFE\"> sketch</span><span style=\"background-color: #FFFEFE\"> style</span><span style=\"background-color: #FFFEFE\"> only</span><span style=\"background-color: #FFFEFE\"> in</span><span style=\"background-color: #FFFEFE\"> time</span><span style=\"background-color: #FFFEFE\"> ,</span><span style=\"background-color: #FFFEFE\"> they</span><span style=\"background-color: #FFF7F7\"> are</span><span style=\"background-color: #FFFEFE\"> not</span><span style=\"background-color: #FFF8F8\"> scripted</span><span style=\"background-color: #FFFEFE\"> ,</span><span style=\"background-color: #FFFEFE\"> at</span><span style=\"background-color: #FFFDFD\"> least</span><span style=\"background-color: #FFFEFE\"> ,</span><span style=\"background-color: #FFFEFE\"> not</span><span style=\"background-color: #FFFEFE\"> the</span><span style=\"background-color: #FFFEFE\"> ones</span><span style=\"background-color: #FFFEFE\"> at</span><span style=\"background-color: #FFFEFE\"> the</span><span style=\"background-color: #FFFDFD\"> other</span><span style=\"background-color: #FFFDFD\"> end</span><span style=\"background-color: #FFFEFE\"> of</span><span style=\"background-color: #FFFEFE\"> the</span><span style=\"background-color: #FFFEFE\"> joke</span><span style=\"background-color: #FFFAFA\"> is</span><span style=\"background-color: #FFFCFC\"> certainly</span><span style=\"background-color: #FFFEFE\"> worth</span><span style=\"background-color: #FFFEFE\"> watching</span><span style=\"background-color: #FFFEFE\"> .</span><span style=\"background-color: #FFFEFE\"> even</span><span style=\"background-color: #FFFEFE\"> the</span><span style=\"background-color: #FFF7F7\"> most</span><span style=\"background-color: #FFFAFA\"> cynical</span><span style=\"background-color: #FFFEFE\"> and</span><span style=\"background-color: #FFFDFD\"> intellectual</span><span style=\"background-color: #FFFEFE\"> viewer</span><span style=\"background-color: #FFFEFE\"> won</span><span style=\"background-color: #FFFEFE\"> t</span><span style=\"background-color: #FFFCFC\"> be</span><span style=\"background-color: #FFEDED\"> disappointed</span><span style=\"background-color: #FFFEFE\"> ,</span><span style=\"background-color: #FFFEFE\"> and</span><span style=\"background-color: #FFFEFE\"> the</span><span style=\"background-color: #FFFEFE\"> show</span><span style=\"background-color: #FFFEFE\"> deserves</span><span style=\"background-color: #FFFEFE\"> ten</span><span style=\"background-color: #FFFEFE\"> stars</span><span style=\"background-color: #FFFEFE\"> .</span><span style=\"background-color: #FFFDFD\"> all</span><span style=\"background-color: #FFFDFD\"> in</span><span style=\"background-color: #FFFDFD\"> all</span><span style=\"background-color: #FFFEFE\"> ,</span><span style=\"background-color: #FFF0F0\"> well</span><span style=\"background-color: #FFFEFE\"> done</span><span style=\"background-color: #FFFEFE\"> to</span><span style=\"background-color: #FFFEFE\"> the</span><span style=\"background-color: #FFFEFE\"> abc</span><span style=\"background-color: #FFFEFE\"> for</span><span style=\"background-color: #FFFCFC\"> showing</span><span style=\"background-color: #FFFEFE\"> this</span><span style=\"background-color: #FFFEFE\"> and</span><span style=\"background-color: #FFFEFE\"> i</span><span style=\"background-color: #FFFDFD\"> recommend</span><span style=\"background-color: #FFFEFE\"> it</span><span style=\"background-color: #FF0000\"> highly</span><span style=\"background-color: #FFFEFE\"> .</span><span style=\"background-color: #FFFEFE\"> <eos></span><span style=\"background-color: #FFFFFF\"> <pad></span><span style=\"background-color: #FFFFFF\"> <pad></span><span style=\"background-color: #FFFFFF\"> <pad></span><span style=\"background-color: #FFFFFF\"> <pad></span><span style=\"background-color: #FFFFFF\"> <pad></span><span style=\"background-color: #FFFFFF\"> <pad></span><span style=\"background-color: #FFFFFF\"> <pad></span><span style=\"background-color: #FFFFFF\"> <pad></span><span style=\"background-color: #FFFFFF\"> <pad></span><span style=\"background-color: #FFFFFF\"> <pad></span><span style=\"background-color: #FFFFFF\"> <pad></span><span style=\"background-color: #FFFFFF\"> <pad></span><span style=\"background-color: #FFFFFF\"> <pad></span><span style=\"background-color: #FFFFFF\"> <pad></span><span style=\"background-color: #FFFFFF\"> <pad></span><span style=\"background-color: #FFFFFF\"> <pad></span><span style=\"background-color: #FFFFFF\"> <pad></span><span style=\"background-color: #FFFFFF\"> <pad></span><span style=\"background-color: #FFFFFF\"> <pad></span><span style=\"background-color: #FFFFFF\"> <pad></span><span style=\"background-color: #FFFFFF\"> <pad></span><span style=\"background-color: #FFFFFF\"> <pad></span><span style=\"background-color: #FFFFFF\"> <pad></span><span style=\"background-color: #FFFFFF\"> <pad></span><span style=\"background-color: #FFFFFF\"> <pad></span><span style=\"background-color: #FFFFFF\"> <pad></span><span style=\"background-color: #FFFFFF\"> <pad></span><span style=\"background-color: #FFFFFF\"> <pad></span><span style=\"background-color: #FFFFFF\"> <pad></span><span style=\"background-color: #FFFFFF\"> <pad></span><span style=\"background-color: #FFFFFF\"> <pad></span><span style=\"background-color: #FFFFFF\"> <pad></span><span style=\"background-color: #FFFFFF\"> <pad></span><span style=\"background-color: #FFFFFF\"> <pad></span><span style=\"background-color: #FFFFFF\"> <pad></span><span style=\"background-color: #FFFFFF\"> <pad></span><span style=\"background-color: #FFFFFF\"> <pad></span><span style=\"background-color: #FFFFFF\"> <pad></span><span style=\"background-color: #FFFFFF\"> <pad></span><span style=\"background-color: #FFFFFF\"> <pad></span><span style=\"background-color: #FFFFFF\"> <pad></span><span style=\"background-color: #FFFFFF\"> <pad></span><span style=\"background-color: #FFFFFF\"> <pad></span><span style=\"background-color: #FFFFFF\"> <pad></span><span style=\"background-color: #FFFFFF\"> <pad></span><span style=\"background-color: #FFFFFF\"> <pad></span><span style=\"background-color: #FFFFFF\"> <pad></span><span style=\"background-color: #FFFFFF\"> <pad></span><span style=\"background-color: #FFFFFF\"> <pad></span><span style=\"background-color: #FFFFFF\"> <pad></span><span style=\"background-color: #FFFFFF\"> <pad></span><span style=\"background-color: #FFFFFF\"> <pad></span><span style=\"background-color: #FFFFFF\"> <pad></span><span style=\"background-color: #FFFFFF\"> <pad></span><span style=\"background-color: #FFFFFF\"> <pad></span><span style=\"background-color: #FFFFFF\"> <pad></span><span style=\"background-color: #FFFFFF\"> <pad></span><span style=\"background-color: #FFFFFF\"> <pad></span><span style=\"background-color: #FFFFFF\"> <pad></span><span style=\"background-color: #FFFFFF\"> <pad></span><span style=\"background-color: #FFFFFF\"> <pad></span><span style=\"background-color: #FFFFFF\"> <pad></span><span style=\"background-color: #FFFFFF\"> <pad></span><span style=\"background-color: #FFFFFF\"> <pad></span><span style=\"background-color: #FFFFFF\"> <pad></span><span style=\"background-color: #FFFFFF\"> <pad></span><span style=\"background-color: #FFFFFF\"> <pad></span><span style=\"background-color: #FFFFFF\"> <pad></span><span style=\"background-color: #FFFFFF\"> <pad></span><span style=\"background-color: #FFFFFF\"> <pad></span><span style=\"background-color: #FFFFFF\"> <pad></span><span style=\"background-color: #FFFFFF\"> <pad></span><span style=\"background-color: #FFFFFF\"> <pad></span><span style=\"background-color: #FFFFFF\"> <pad></span><span style=\"background-color: #FFFFFF\"> <pad></span><span style=\"background-color: #FFFFFF\"> <pad></span><span style=\"background-color: #FFFFFF\"> <pad></span><span style=\"background-color: #FFFFFF\"> <pad></span><span style=\"background-color: #FFFFFF\"> <pad></span><span style=\"background-color: #FFFFFF\"> <pad></span><span style=\"background-color: #FFFFFF\"> <pad></span><span style=\"background-color: #FFFFFF\"> <pad></span><span style=\"background-color: #FFFFFF\"> <pad></span><span style=\"background-color: #FFFFFF\"> <pad></span><span style=\"background-color: #FFFFFF\"> <pad></span><span style=\"background-color: #FFFFFF\"> <pad></span><span style=\"background-color: #FFFFFF\"> <pad></span><span style=\"background-color: #FFFFFF\"> <pad></span><span style=\"background-color: #FFFFFF\"> <pad></span><br><br>"
      ],
      "text/plain": [
       "<IPython.core.display.HTML object>"
      ]
     },
     "execution_count": 12,
     "metadata": {},
     "output_type": "execute_result"
    }
   ],
   "source": [
    "from IPython.display import HTML\n",
    "\n",
    "# Transformerで処理\n",
    "\n",
    "# ミニバッチの用意\n",
    "batch = next(iter(test_dl))\n",
    "\n",
    "# GPUが使えるならGPUにデータを送る\n",
    "inputs = batch.Text[0].to(device)  # 文章\n",
    "labels = batch.Label.to(device)  # ラベル\n",
    "\n",
    "# mask作成\n",
    "input_pad = 1  # 単語のIDにおいて、'<pad>': 1 なので\n",
    "input_mask = (inputs != input_pad)\n",
    "\n",
    "# Transformerに入力\n",
    "outputs, normlized_weights_1, normlized_weights_2 = net_trained(\n",
    "    inputs, input_mask)\n",
    "_, preds = torch.max(outputs, 1)  # ラベルを予測\n",
    "\n",
    "\n",
    "index = 3  # 出力させたいデータ\n",
    "html_output = mk_html(index, batch, preds, normlized_weights_1,\n",
    "                      normlized_weights_2, TEXT)  # HTML作成\n",
    "HTML(html_output)  # HTML形式で出力\n"
   ]
  },
  {
   "cell_type": "code",
   "execution_count": 13,
   "metadata": {},
   "outputs": [
    {
     "data": {
      "text/html": [
       "正解ラベル：Positive<br>推論ラベル：Positive<br><br>[TransformerBlockの1段目のAttentionを可視化]<br><span style=\"background-color: #FFF8F8\"> <cls></span><span style=\"background-color: #FFFDFD\"> yeah</span><span style=\"background-color: #FF0000\"> great</span><span style=\"background-color: #FFCBCB\"> cult</span><span style=\"background-color: #FFEFEF\"> tv</span><span style=\"background-color: #FFC2C2\"> series</span><span style=\"background-color: #FFFEFE\"> .</span><span style=\"background-color: #FF7777\"> great</span><span style=\"background-color: #FFF6F6\"> atmosphere</span><span style=\"background-color: #FFFEFE\"> ,</span><span style=\"background-color: #FFF9F9\"> top</span><span style=\"background-color: #FF1212\"> script</span><span style=\"background-color: #FFFEFE\"> and</span><span style=\"background-color: #FFB2B2\"> good</span><span style=\"background-color: #FFE4E4\"> performances</span><span style=\"background-color: #FFFBFB\"> make</span><span style=\"background-color: #FFF8F8\"> this</span><span style=\"background-color: #FFFBFB\"> a</span><span style=\"background-color: #FFFAFA\"> class</span><span style=\"background-color: #FFFCFC\"> a</span><span style=\"background-color: #FFFEFE\"> candidate</span><span style=\"background-color: #FFFEFE\"> for</span><span style=\"background-color: #FF8181\"> dvd</span><span style=\"background-color: #FFE1E1\"> release</span><span style=\"background-color: #FFFEFE\"> .</span><span style=\"background-color: #FFF3F3\"> this</span><span style=\"background-color: #FFFCFC\"> is</span><span style=\"background-color: #FFFAFA\"> a</span><span style=\"background-color: #FF7F7F\"> seminal</span><span style=\"background-color: #FFCCCC\"> tour</span><span style=\"background-color: #FFFAFA\"> de</span><span style=\"background-color: #FFFDFD\"> force</span><span style=\"background-color: #FFFCFC\"> of</span><span style=\"background-color: #FFF8F8\"> australian</span><span style=\"background-color: #FFF0F0\"> tv</span><span style=\"background-color: #FFECEC\"> history</span><span style=\"background-color: #FFFEFE\"> and</span><span style=\"background-color: #FFFAFA\"> has</span><span style=\"background-color: #FFFDFD\"> that</span><span style=\"background-color: #FFAEAE\"> unforgettable</span><span style=\"background-color: #FFF7F7\"> groovy</span><span style=\"background-color: #FFFDFD\"> period</span><span style=\"background-color: #FFFBFB\"> piece</span><span style=\"background-color: #FFECEC\"> soundtrack</span><span style=\"background-color: #FFFEFE\"> with</span><span style=\"background-color: #FFF8F8\"> doug</span><span style=\"background-color: #FFFDFD\"> <unk></span><span style=\"background-color: #FFFCFC\"> s</span><span style=\"background-color: #FFFCFC\"> <unk></span><span style=\"background-color: #FFFEFE\"> and</span><span style=\"background-color: #FFFCFC\"> <unk></span><span style=\"background-color: #FFF9F9\"> voice</span><span style=\"background-color: #FFFAFA\"> spewing</span><span style=\"background-color: #FFF7F7\"> 70</span><span style=\"background-color: #FFFCFC\"> s</span><span style=\"background-color: #FFFEFE\"> <unk></span><span style=\"background-color: #FFFBFB\"> all</span><span style=\"background-color: #FFFEFE\"> over</span><span style=\"background-color: #FFF1F1\"> your</span><span style=\"background-color: #FFFAFA\"> <unk></span><span style=\"background-color: #FF3636\"> ray</span><span style=\"background-color: #FFD4D4\"> box</span><span style=\"background-color: #FFFEFE\"> as</span><span style=\"background-color: #FFF9F9\"> a</span><span style=\"background-color: #FFF6F6\"> amazingly</span><span style=\"background-color: #FFFBFB\"> long</span><span style=\"background-color: #FFF6F6\"> camera</span><span style=\"background-color: #FFF7F7\"> zoom</span><span style=\"background-color: #FFFDFD\"> out</span><span style=\"background-color: #FFF1F1\"> reveals</span><span style=\"background-color: #FFFDFD\"> the</span><span style=\"background-color: #FFE6E6\"> religion</span><span style=\"background-color: #FFFAFA\"> of</span><span style=\"background-color: #FFFCFC\"> the</span><span style=\"background-color: #FFF5F5\"> open</span><span style=\"background-color: #FFF2F2\"> road</span><span style=\"background-color: #FFFEFE\"> in</span><span style=\"background-color: #FFFAFA\"> all</span><span style=\"background-color: #FFFEFE\"> its</span><span style=\"background-color: #FFFCFC\"> <unk></span><span style=\"background-color: #FFB4B4\"> glory</span><span style=\"background-color: #FFFEFE\"> .</span><span style=\"background-color: #FFF1F1\"> this</span><span style=\"background-color: #FFFBFB\"> is</span><span style=\"background-color: #FFF7F7\"> a</span><span style=\"background-color: #FFF8F8\"> <unk></span><span style=\"background-color: #FFFEFE\"> from</span><span style=\"background-color: #FFFBFB\"> another</span><span style=\"background-color: #FFFEFE\"> and</span><span style=\"background-color: #FFF1F1\"> not</span><span style=\"background-color: #FFFDFD\"> too</span><span style=\"background-color: #FFF8F8\"> distant</span><span style=\"background-color: #FFECEC\"> era</span><span style=\"background-color: #FFFEFE\"> ,</span><span style=\"background-color: #FFFEFE\"> and</span><span style=\"background-color: #FFFAFA\"> has</span><span style=\"background-color: #FFFCFC\"> the</span><span style=\"background-color: #FFE0E0\"> proud</span><span style=\"background-color: #FF6D6D\"> stamp</span><span style=\"background-color: #FFFBFB\"> of</span><span style=\"background-color: #FFFCFC\"> the</span><span style=\"background-color: #FFF0F0\"> land</span><span style=\"background-color: #FFF6F6\"> mighty</span><span style=\"background-color: #FFFCFC\"> down</span><span style=\"background-color: #FFFDFD\"> under</span><span style=\"background-color: #FFFDFD\"> from</span><span style=\"background-color: #FFD7D7\"> start</span><span style=\"background-color: #FFFCFC\"> to</span><span style=\"background-color: #FF8A8A\"> finish</span><span style=\"background-color: #FFFEFE\"> in</span><span style=\"background-color: #FFF9F9\"> all</span><span style=\"background-color: #FFFEFE\"> its</span><span style=\"background-color: #FFD4D4\"> raw</span><span style=\"background-color: #FFE6E6\"> freedom</span><span style=\"background-color: #FFFEFE\"> and</span><span style=\"background-color: #FFEBEB\"> gritty</span><span style=\"background-color: #FF1D1D\"> grandeur</span><span style=\"background-color: #FFFEFE\"> .</span><span style=\"background-color: #FFF1F1\"> come</span><span style=\"background-color: #FFFDFD\"> on</span><span style=\"background-color: #FFFCFC\"> abc</span><span style=\"background-color: #FFFDFD\"> get</span><span style=\"background-color: #FFFEFE\"> with</span><span style=\"background-color: #FFFCFC\"> the</span><span style=\"background-color: #FFF7F7\"> program</span><span style=\"background-color: #FFFEFE\"> and</span><span style=\"background-color: #FFE9E9\"> release</span><span style=\"background-color: #FFF6F6\"> this</span><span style=\"background-color: #FFD0D0\"> cool</span><span style=\"background-color: #FFF4F4\"> 70</span><span style=\"background-color: #FFFBFB\"> s</span><span style=\"background-color: #FFDFDF\"> cult</span><span style=\"background-color: #FFFBFB\"> baby</span><span style=\"background-color: #FFFEFE\"> for</span><span style=\"background-color: #FFFCFC\"> all</span><span style=\"background-color: #FFFEFE\"> to</span><span style=\"background-color: #FFCFCF\"> enjoy</span><span style=\"background-color: #FFFEFE\"> or</span><span style=\"background-color: #FFEDED\"> re</span><span style=\"background-color: #FFC1C1\"> enjoy</span><span style=\"background-color: #FFFEFE\"> if</span><span style=\"background-color: #FFFCFC\"> you</span><span style=\"background-color: #FFE7E7\"> re</span><span style=\"background-color: #FFF6F6\"> lucky</span><span style=\"background-color: #FFF2F2\"> enough</span><span style=\"background-color: #FFFCFC\"> to</span><span style=\"background-color: #FFF7F7\"> have</span><span style=\"background-color: #FFF4F4\"> lived</span><span style=\"background-color: #FFFCFC\"> the</span><span style=\"background-color: #FFA4A4\"> dream</span><span style=\"background-color: #FFFEFE\"> at</span><span style=\"background-color: #FFFCFC\"> the</span><span style=\"background-color: #FFE3E3\"> time</span><span style=\"background-color: #FFFEFE\"> .</span><span style=\"background-color: #FFF5F5\"> <eos></span><span style=\"background-color: #FFFFFF\"> <pad></span><span style=\"background-color: #FFFFFF\"> <pad></span><span style=\"background-color: #FFFFFF\"> <pad></span><span style=\"background-color: #FFFFFF\"> <pad></span><span style=\"background-color: #FFFFFF\"> <pad></span><span style=\"background-color: #FFFFFF\"> <pad></span><span style=\"background-color: #FFFFFF\"> <pad></span><span style=\"background-color: #FFFFFF\"> <pad></span><span style=\"background-color: #FFFFFF\"> <pad></span><span style=\"background-color: #FFFFFF\"> <pad></span><span style=\"background-color: #FFFFFF\"> <pad></span><span style=\"background-color: #FFFFFF\"> <pad></span><span style=\"background-color: #FFFFFF\"> <pad></span><span style=\"background-color: #FFFFFF\"> <pad></span><span style=\"background-color: #FFFFFF\"> <pad></span><span style=\"background-color: #FFFFFF\"> <pad></span><span style=\"background-color: #FFFFFF\"> <pad></span><span style=\"background-color: #FFFFFF\"> <pad></span><span style=\"background-color: #FFFFFF\"> <pad></span><span style=\"background-color: #FFFFFF\"> <pad></span><span style=\"background-color: #FFFFFF\"> <pad></span><span style=\"background-color: #FFFFFF\"> <pad></span><span style=\"background-color: #FFFFFF\"> <pad></span><span style=\"background-color: #FFFFFF\"> <pad></span><span style=\"background-color: #FFFFFF\"> <pad></span><span style=\"background-color: #FFFFFF\"> <pad></span><span style=\"background-color: #FFFFFF\"> <pad></span><span style=\"background-color: #FFFFFF\"> <pad></span><span style=\"background-color: #FFFFFF\"> <pad></span><span style=\"background-color: #FFFFFF\"> <pad></span><span style=\"background-color: #FFFFFF\"> <pad></span><span style=\"background-color: #FFFFFF\"> <pad></span><span style=\"background-color: #FFFFFF\"> <pad></span><span style=\"background-color: #FFFFFF\"> <pad></span><span style=\"background-color: #FFFFFF\"> <pad></span><span style=\"background-color: #FFFFFF\"> <pad></span><span style=\"background-color: #FFFFFF\"> <pad></span><span style=\"background-color: #FFFFFF\"> <pad></span><span style=\"background-color: #FFFFFF\"> <pad></span><span style=\"background-color: #FFFFFF\"> <pad></span><span style=\"background-color: #FFFFFF\"> <pad></span><span style=\"background-color: #FFFFFF\"> <pad></span><span style=\"background-color: #FFFFFF\"> <pad></span><span style=\"background-color: #FFFFFF\"> <pad></span><span style=\"background-color: #FFFFFF\"> <pad></span><span style=\"background-color: #FFFFFF\"> <pad></span><span style=\"background-color: #FFFFFF\"> <pad></span><span style=\"background-color: #FFFFFF\"> <pad></span><span style=\"background-color: #FFFFFF\"> <pad></span><span style=\"background-color: #FFFFFF\"> <pad></span><span style=\"background-color: #FFFFFF\"> <pad></span><span style=\"background-color: #FFFFFF\"> <pad></span><span style=\"background-color: #FFFFFF\"> <pad></span><span style=\"background-color: #FFFFFF\"> <pad></span><span style=\"background-color: #FFFFFF\"> <pad></span><span style=\"background-color: #FFFFFF\"> <pad></span><span style=\"background-color: #FFFFFF\"> <pad></span><span style=\"background-color: #FFFFFF\"> <pad></span><span style=\"background-color: #FFFFFF\"> <pad></span><span style=\"background-color: #FFFFFF\"> <pad></span><span style=\"background-color: #FFFFFF\"> <pad></span><span style=\"background-color: #FFFFFF\"> <pad></span><span style=\"background-color: #FFFFFF\"> <pad></span><span style=\"background-color: #FFFFFF\"> <pad></span><span style=\"background-color: #FFFFFF\"> <pad></span><span style=\"background-color: #FFFFFF\"> <pad></span><span style=\"background-color: #FFFFFF\"> <pad></span><span style=\"background-color: #FFFFFF\"> <pad></span><span style=\"background-color: #FFFFFF\"> <pad></span><span style=\"background-color: #FFFFFF\"> <pad></span><span style=\"background-color: #FFFFFF\"> <pad></span><span style=\"background-color: #FFFFFF\"> <pad></span><span style=\"background-color: #FFFFFF\"> <pad></span><span style=\"background-color: #FFFFFF\"> <pad></span><span style=\"background-color: #FFFFFF\"> <pad></span><span style=\"background-color: #FFFFFF\"> <pad></span><span style=\"background-color: #FFFFFF\"> <pad></span><span style=\"background-color: #FFFFFF\"> <pad></span><span style=\"background-color: #FFFFFF\"> <pad></span><span style=\"background-color: #FFFFFF\"> <pad></span><span style=\"background-color: #FFFFFF\"> <pad></span><span style=\"background-color: #FFFFFF\"> <pad></span><span style=\"background-color: #FFFFFF\"> <pad></span><span style=\"background-color: #FFFFFF\"> <pad></span><span style=\"background-color: #FFFFFF\"> <pad></span><span style=\"background-color: #FFFFFF\"> <pad></span><span style=\"background-color: #FFFFFF\"> <pad></span><span style=\"background-color: #FFFFFF\"> <pad></span><span style=\"background-color: #FFFFFF\"> <pad></span><span style=\"background-color: #FFFFFF\"> <pad></span><span style=\"background-color: #FFFFFF\"> <pad></span><span style=\"background-color: #FFFFFF\"> <pad></span><span style=\"background-color: #FFFFFF\"> <pad></span><span style=\"background-color: #FFFFFF\"> <pad></span><span style=\"background-color: #FFFFFF\"> <pad></span><span style=\"background-color: #FFFFFF\"> <pad></span><span style=\"background-color: #FFFFFF\"> <pad></span><span style=\"background-color: #FFFFFF\"> <pad></span><span style=\"background-color: #FFFFFF\"> <pad></span><span style=\"background-color: #FFFFFF\"> <pad></span><span style=\"background-color: #FFFFFF\"> <pad></span><br><br>[TransformerBlockの2段目のAttentionを可視化]<br><span style=\"background-color: #FFFEFE\"> <cls></span><span style=\"background-color: #FFECEC\"> yeah</span><span style=\"background-color: #FFC3C3\"> great</span><span style=\"background-color: #FFFCFC\"> cult</span><span style=\"background-color: #FFFEFE\"> tv</span><span style=\"background-color: #FFF9F9\"> series</span><span style=\"background-color: #FFF7F7\"> .</span><span style=\"background-color: #FFBEBE\"> great</span><span style=\"background-color: #FFFAFA\"> atmosphere</span><span style=\"background-color: #FFFDFD\"> ,</span><span style=\"background-color: #FFF1F1\"> top</span><span style=\"background-color: #FFF3F3\"> script</span><span style=\"background-color: #FFFEFE\"> and</span><span style=\"background-color: #FFCACA\"> good</span><span style=\"background-color: #FFFDFD\"> performances</span><span style=\"background-color: #FFFDFD\"> make</span><span style=\"background-color: #FFF7F7\"> this</span><span style=\"background-color: #FFFEFE\"> a</span><span style=\"background-color: #FFFBFB\"> class</span><span style=\"background-color: #FFFEFE\"> a</span><span style=\"background-color: #FFF3F3\"> candidate</span><span style=\"background-color: #FFFEFE\"> for</span><span style=\"background-color: #FFFEFE\"> dvd</span><span style=\"background-color: #FFFDFD\"> release</span><span style=\"background-color: #FFFAFA\"> .</span><span style=\"background-color: #FFF8F8\"> this</span><span style=\"background-color: #FFF5F5\"> is</span><span style=\"background-color: #FFFEFE\"> a</span><span style=\"background-color: #FFFAFA\"> seminal</span><span style=\"background-color: #FFFEFE\"> tour</span><span style=\"background-color: #FFFDFD\"> de</span><span style=\"background-color: #FFFDFD\"> force</span><span style=\"background-color: #FFFEFE\"> of</span><span style=\"background-color: #FFFDFD\"> australian</span><span style=\"background-color: #FFFEFE\"> tv</span><span style=\"background-color: #FFFCFC\"> history</span><span style=\"background-color: #FFFEFE\"> and</span><span style=\"background-color: #FFF8F8\"> has</span><span style=\"background-color: #FFFCFC\"> that</span><span style=\"background-color: #FFF6F6\"> unforgettable</span><span style=\"background-color: #FFE3E3\"> groovy</span><span style=\"background-color: #FFFEFE\"> period</span><span style=\"background-color: #FFFDFD\"> piece</span><span style=\"background-color: #FFF9F9\"> soundtrack</span><span style=\"background-color: #FFFCFC\"> with</span><span style=\"background-color: #FFFDFD\"> doug</span><span style=\"background-color: #FFFEFE\"> <unk></span><span style=\"background-color: #FFFDFD\"> s</span><span style=\"background-color: #FFFEFE\"> <unk></span><span style=\"background-color: #FFFEFE\"> and</span><span style=\"background-color: #FFFDFD\"> <unk></span><span style=\"background-color: #FFF6F6\"> voice</span><span style=\"background-color: #FFC8C8\"> spewing</span><span style=\"background-color: #FFFAFA\"> 70</span><span style=\"background-color: #FFFDFD\"> s</span><span style=\"background-color: #FFFDFD\"> <unk></span><span style=\"background-color: #FFF4F4\"> all</span><span style=\"background-color: #FFF5F5\"> over</span><span style=\"background-color: #FFF8F8\"> your</span><span style=\"background-color: #FFFDFD\"> <unk></span><span style=\"background-color: #FFF8F8\"> ray</span><span style=\"background-color: #FFF9F9\"> box</span><span style=\"background-color: #FFFAFA\"> as</span><span style=\"background-color: #FFFEFE\"> a</span><span style=\"background-color: #FF0000\"> amazingly</span><span style=\"background-color: #FFF8F8\"> long</span><span style=\"background-color: #FFFBFB\"> camera</span><span style=\"background-color: #FFFDFD\"> zoom</span><span style=\"background-color: #FFF3F3\"> out</span><span style=\"background-color: #FFF8F8\"> reveals</span><span style=\"background-color: #FFFEFE\"> the</span><span style=\"background-color: #FFFEFE\"> religion</span><span style=\"background-color: #FFFEFE\"> of</span><span style=\"background-color: #FFFEFE\"> the</span><span style=\"background-color: #FFFDFD\"> open</span><span style=\"background-color: #FFFCFC\"> road</span><span style=\"background-color: #FFFBFB\"> in</span><span style=\"background-color: #FFEFEF\"> all</span><span style=\"background-color: #FFF9F9\"> its</span><span style=\"background-color: #FFFCFC\"> <unk></span><span style=\"background-color: #FFF9F9\"> glory</span><span style=\"background-color: #FFF9F9\"> .</span><span style=\"background-color: #FFF8F8\"> this</span><span style=\"background-color: #FFF4F4\"> is</span><span style=\"background-color: #FFFEFE\"> a</span><span style=\"background-color: #FFFCFC\"> <unk></span><span style=\"background-color: #FFFDFD\"> from</span><span style=\"background-color: #FFFBFB\"> another</span><span style=\"background-color: #FFFEFE\"> and</span><span style=\"background-color: #FFFDFD\"> not</span><span style=\"background-color: #FFFBFB\"> too</span><span style=\"background-color: #FFEAEA\"> distant</span><span style=\"background-color: #FFFEFE\"> era</span><span style=\"background-color: #FFFDFD\"> ,</span><span style=\"background-color: #FFFEFE\"> and</span><span style=\"background-color: #FFF9F9\"> has</span><span style=\"background-color: #FFFEFE\"> the</span><span style=\"background-color: #FFE4E4\"> proud</span><span style=\"background-color: #FFFEFE\"> stamp</span><span style=\"background-color: #FFFEFE\"> of</span><span style=\"background-color: #FFFEFE\"> the</span><span style=\"background-color: #FFFEFE\"> land</span><span style=\"background-color: #FFF1F1\"> mighty</span><span style=\"background-color: #FFF1F1\"> down</span><span style=\"background-color: #FFFCFC\"> under</span><span style=\"background-color: #FFFDFD\"> from</span><span style=\"background-color: #FFFAFA\"> start</span><span style=\"background-color: #FFFEFE\"> to</span><span style=\"background-color: #FFF3F3\"> finish</span><span style=\"background-color: #FFFDFD\"> in</span><span style=\"background-color: #FFF3F3\"> all</span><span style=\"background-color: #FFFAFA\"> its</span><span style=\"background-color: #FFF8F8\"> raw</span><span style=\"background-color: #FFFEFE\"> freedom</span><span style=\"background-color: #FFFEFE\"> and</span><span style=\"background-color: #FFD9D9\"> gritty</span><span style=\"background-color: #FFF3F3\"> grandeur</span><span style=\"background-color: #FFFBFB\"> .</span><span style=\"background-color: #FFFDFD\"> come</span><span style=\"background-color: #FFFEFE\"> on</span><span style=\"background-color: #FFFEFE\"> abc</span><span style=\"background-color: #FFFDFD\"> get</span><span style=\"background-color: #FFFBFB\"> with</span><span style=\"background-color: #FFFDFD\"> the</span><span style=\"background-color: #FFFDFD\"> program</span><span style=\"background-color: #FFFEFE\"> and</span><span style=\"background-color: #FFFDFD\"> release</span><span style=\"background-color: #FFF9F9\"> this</span><span style=\"background-color: #FFB7B7\"> cool</span><span style=\"background-color: #FFF9F9\"> 70</span><span style=\"background-color: #FFFCFC\"> s</span><span style=\"background-color: #FFFCFC\"> cult</span><span style=\"background-color: #FFEEEE\"> baby</span><span style=\"background-color: #FFFEFE\"> for</span><span style=\"background-color: #FFEDED\"> all</span><span style=\"background-color: #FFFEFE\"> to</span><span style=\"background-color: #FFF0F0\"> enjoy</span><span style=\"background-color: #FFF9F9\"> or</span><span style=\"background-color: #FFFDFD\"> re</span><span style=\"background-color: #FFF3F3\"> enjoy</span><span style=\"background-color: #FFF6F6\"> if</span><span style=\"background-color: #FFFBFB\"> you</span><span style=\"background-color: #FFFDFD\"> re</span><span style=\"background-color: #FFF5F5\"> lucky</span><span style=\"background-color: #FFFBFB\"> enough</span><span style=\"background-color: #FFFEFE\"> to</span><span style=\"background-color: #FFFBFB\"> have</span><span style=\"background-color: #FFF9F9\"> lived</span><span style=\"background-color: #FFFEFE\"> the</span><span style=\"background-color: #FFFDFD\"> dream</span><span style=\"background-color: #FFFDFD\"> at</span><span style=\"background-color: #FFFEFE\"> the</span><span style=\"background-color: #FFFBFB\"> time</span><span style=\"background-color: #FFF8F8\"> .</span><span style=\"background-color: #FFFDFD\"> <eos></span><span style=\"background-color: #FFFFFF\"> <pad></span><span style=\"background-color: #FFFFFF\"> <pad></span><span style=\"background-color: #FFFFFF\"> <pad></span><span style=\"background-color: #FFFFFF\"> <pad></span><span style=\"background-color: #FFFFFF\"> <pad></span><span style=\"background-color: #FFFFFF\"> <pad></span><span style=\"background-color: #FFFFFF\"> <pad></span><span style=\"background-color: #FFFFFF\"> <pad></span><span style=\"background-color: #FFFFFF\"> <pad></span><span style=\"background-color: #FFFFFF\"> <pad></span><span style=\"background-color: #FFFFFF\"> <pad></span><span style=\"background-color: #FFFFFF\"> <pad></span><span style=\"background-color: #FFFFFF\"> <pad></span><span style=\"background-color: #FFFFFF\"> <pad></span><span style=\"background-color: #FFFFFF\"> <pad></span><span style=\"background-color: #FFFFFF\"> <pad></span><span style=\"background-color: #FFFFFF\"> <pad></span><span style=\"background-color: #FFFFFF\"> <pad></span><span style=\"background-color: #FFFFFF\"> <pad></span><span style=\"background-color: #FFFFFF\"> <pad></span><span style=\"background-color: #FFFFFF\"> <pad></span><span style=\"background-color: #FFFFFF\"> <pad></span><span style=\"background-color: #FFFFFF\"> <pad></span><span style=\"background-color: #FFFFFF\"> <pad></span><span style=\"background-color: #FFFFFF\"> <pad></span><span style=\"background-color: #FFFFFF\"> <pad></span><span style=\"background-color: #FFFFFF\"> <pad></span><span style=\"background-color: #FFFFFF\"> <pad></span><span style=\"background-color: #FFFFFF\"> <pad></span><span style=\"background-color: #FFFFFF\"> <pad></span><span style=\"background-color: #FFFFFF\"> <pad></span><span style=\"background-color: #FFFFFF\"> <pad></span><span style=\"background-color: #FFFFFF\"> <pad></span><span style=\"background-color: #FFFFFF\"> <pad></span><span style=\"background-color: #FFFFFF\"> <pad></span><span style=\"background-color: #FFFFFF\"> <pad></span><span style=\"background-color: #FFFFFF\"> <pad></span><span style=\"background-color: #FFFFFF\"> <pad></span><span style=\"background-color: #FFFFFF\"> <pad></span><span style=\"background-color: #FFFFFF\"> <pad></span><span style=\"background-color: #FFFFFF\"> <pad></span><span style=\"background-color: #FFFFFF\"> <pad></span><span style=\"background-color: #FFFFFF\"> <pad></span><span style=\"background-color: #FFFFFF\"> <pad></span><span style=\"background-color: #FFFFFF\"> <pad></span><span style=\"background-color: #FFFFFF\"> <pad></span><span style=\"background-color: #FFFFFF\"> <pad></span><span style=\"background-color: #FFFFFF\"> <pad></span><span style=\"background-color: #FFFFFF\"> <pad></span><span style=\"background-color: #FFFFFF\"> <pad></span><span style=\"background-color: #FFFFFF\"> <pad></span><span style=\"background-color: #FFFFFF\"> <pad></span><span style=\"background-color: #FFFFFF\"> <pad></span><span style=\"background-color: #FFFFFF\"> <pad></span><span style=\"background-color: #FFFFFF\"> <pad></span><span style=\"background-color: #FFFFFF\"> <pad></span><span style=\"background-color: #FFFFFF\"> <pad></span><span style=\"background-color: #FFFFFF\"> <pad></span><span style=\"background-color: #FFFFFF\"> <pad></span><span style=\"background-color: #FFFFFF\"> <pad></span><span style=\"background-color: #FFFFFF\"> <pad></span><span style=\"background-color: #FFFFFF\"> <pad></span><span style=\"background-color: #FFFFFF\"> <pad></span><span style=\"background-color: #FFFFFF\"> <pad></span><span style=\"background-color: #FFFFFF\"> <pad></span><span style=\"background-color: #FFFFFF\"> <pad></span><span style=\"background-color: #FFFFFF\"> <pad></span><span style=\"background-color: #FFFFFF\"> <pad></span><span style=\"background-color: #FFFFFF\"> <pad></span><span style=\"background-color: #FFFFFF\"> <pad></span><span style=\"background-color: #FFFFFF\"> <pad></span><span style=\"background-color: #FFFFFF\"> <pad></span><span style=\"background-color: #FFFFFF\"> <pad></span><span style=\"background-color: #FFFFFF\"> <pad></span><span style=\"background-color: #FFFFFF\"> <pad></span><span style=\"background-color: #FFFFFF\"> <pad></span><span style=\"background-color: #FFFFFF\"> <pad></span><span style=\"background-color: #FFFFFF\"> <pad></span><span style=\"background-color: #FFFFFF\"> <pad></span><span style=\"background-color: #FFFFFF\"> <pad></span><span style=\"background-color: #FFFFFF\"> <pad></span><span style=\"background-color: #FFFFFF\"> <pad></span><span style=\"background-color: #FFFFFF\"> <pad></span><span style=\"background-color: #FFFFFF\"> <pad></span><span style=\"background-color: #FFFFFF\"> <pad></span><span style=\"background-color: #FFFFFF\"> <pad></span><span style=\"background-color: #FFFFFF\"> <pad></span><span style=\"background-color: #FFFFFF\"> <pad></span><span style=\"background-color: #FFFFFF\"> <pad></span><span style=\"background-color: #FFFFFF\"> <pad></span><span style=\"background-color: #FFFFFF\"> <pad></span><span style=\"background-color: #FFFFFF\"> <pad></span><span style=\"background-color: #FFFFFF\"> <pad></span><span style=\"background-color: #FFFFFF\"> <pad></span><span style=\"background-color: #FFFFFF\"> <pad></span><span style=\"background-color: #FFFFFF\"> <pad></span><span style=\"background-color: #FFFFFF\"> <pad></span><span style=\"background-color: #FFFFFF\"> <pad></span><span style=\"background-color: #FFFFFF\"> <pad></span><span style=\"background-color: #FFFFFF\"> <pad></span><span style=\"background-color: #FFFFFF\"> <pad></span><br><br>"
      ],
      "text/plain": [
       "<IPython.core.display.HTML object>"
      ]
     },
     "execution_count": 13,
     "metadata": {},
     "output_type": "execute_result"
    }
   ],
   "source": [
    "index = 61  # 出力させたいデータ\n",
    "html_output = mk_html(index, batch, preds, normlized_weights_1,\n",
    "                      normlized_weights_2, TEXT)  # HTML作成\n",
    "HTML(html_output)  # HTML形式で出力\n"
   ]
  },
  {
   "cell_type": "code",
   "execution_count": null,
   "metadata": {},
   "outputs": [],
   "source": []
  }
 ],
 "metadata": {
  "kernelspec": {
   "display_name": "Python 3",
   "language": "python",
   "name": "python3"
  },
  "language_info": {
   "codemirror_mode": {
    "name": "ipython",
    "version": 3
   },
   "file_extension": ".py",
   "mimetype": "text/x-python",
   "name": "python",
   "nbconvert_exporter": "python",
   "pygments_lexer": "ipython3",
   "version": "3.7.6"
  }
 },
 "nbformat": 4,
 "nbformat_minor": 4
}
