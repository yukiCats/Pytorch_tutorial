{
 "cells": [
  {
   "cell_type": "code",
   "execution_count": 3,
   "metadata": {},
   "outputs": [],
   "source": [
    "from sklearn.datasets import fetch_openml\n",
    "\n",
    "mnist = fetch_openml('mnist_784', version=1, data_home=\"./data/\")  \n",
    "# data_homeは保存先を指定します"
   ]
  },
  {
   "cell_type": "code",
   "execution_count": 4,
   "metadata": {},
   "outputs": [],
   "source": [
    "# データの取り出し\n",
    "X = mnist.data\n",
    "y = mnist.target"
   ]
  },
  {
   "cell_type": "code",
   "execution_count": 5,
   "metadata": {},
   "outputs": [],
   "source": [
    "import os\n",
    "\n",
    "# フォルダ「data」の下にフォルダ「img_78」を作成する\n",
    "data_dir_path = \"./data/img_78/\"\n",
    "if not os.path.exists(data_dir_path):\n",
    "    os.mkdir(data_dir_path)"
   ]
  },
  {
   "cell_type": "code",
   "execution_count": 9,
   "metadata": {},
   "outputs": [],
   "source": [
    "from PIL import Image\n",
    "import numpy as np\n",
    "\n",
    "# MNISTから数字7、8の画像だけフォルダ「img_78」に画像として保存していく\n",
    "count7=0\n",
    "count8=0\n",
    "max_num=200  # 画像は200枚ずつ作成する\n",
    "\n",
    "for i in range(len(X)):\n",
    "    \n",
    "    # 画像7の作成\n",
    "    if (y[i] == \"7\") and (count7<max_num):\n",
    "        file_path=\"./data/img_78/img_7_\"+str(count7)+\".jpg\"\n",
    "        im_f=(X[i].reshape(28, 28))  # 画像を28×28の形に変形\n",
    "        pil_img_f = Image.fromarray(im_f.astype(np.uint8))  # 画像をPILに\n",
    "        pil_img_f = pil_img_f.resize((64, 64), Image.BICUBIC)  # 64×64に拡大\n",
    "        pil_img_f.save(file_path)  # 保存\n",
    "        count7+=1 \n",
    "    \n",
    "    # 画像8の作成\n",
    "    if (y[i] == \"8\") and (count8<max_num):\n",
    "        file_path=\"./data/img_78/img_8_\"+str(count8)+\".jpg\"\n",
    "        im_f=(X[i].reshape(28, 28))  # 画像を28*28の形に変形\n",
    "        pil_img_f = Image.fromarray(im_f.astype(np.uint8))  # 画像をPILに\n",
    "        pil_img_f = pil_img_f.resize((64, 64), Image.BICUBIC)  # 64×64に拡大\n",
    "        pil_img_f.save(file_path)  # 保存\n",
    "        count8+=1 \n",
    "\n"
   ]
  },
  {
   "cell_type": "code",
   "execution_count": null,
   "metadata": {},
   "outputs": [],
   "source": []
  }
 ],
 "metadata": {
  "kernelspec": {
   "display_name": "Python 3",
   "language": "python",
   "name": "python3"
  },
  "language_info": {
   "codemirror_mode": {
    "name": "ipython",
    "version": 3
   },
   "file_extension": ".py",
   "mimetype": "text/x-python",
   "name": "python",
   "nbconvert_exporter": "python",
   "pygments_lexer": "ipython3",
   "version": "3.8.3"
  }
 },
 "nbformat": 4,
 "nbformat_minor": 4
}
